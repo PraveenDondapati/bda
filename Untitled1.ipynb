{
  "nbformat": 4,
  "nbformat_minor": 0,
  "metadata": {
    "colab": {
      "provenance": []
    },
    "kernelspec": {
      "name": "python3",
      "display_name": "Python 3"
    },
    "language_info": {
      "name": "python"
    }
  },
  "cells": [
    {
      "cell_type": "code",
      "execution_count": null,
      "metadata": {
        "colab": {
          "base_uri": "https://localhost:8080/"
        },
        "id": "v1pTorJXvPYV",
        "outputId": "6868f5ae-790e-4547-c7de-192fed338dcb"
      },
      "outputs": [
        {
          "output_type": "stream",
          "name": "stdout",
          "text": [
            "sum of 1,2,3 is: 6\n",
            "sum of 4,5,6,7 is: 22\n"
          ]
        }
      ],
      "source": [
        "def sum_all(*args):\n",
        "    return sum(args)\n",
        "print(\"sum of 1,2,3 is:\", sum_all(1, 2, 3))\n",
        "print(\"sum of 4,5,6,7 is:\", sum_all(4, 5, 6, 7))\n"
      ]
    },
    {
      "cell_type": "code",
      "source": [
        "def first_word(word_list):\n",
        "    # Sort the list in alphabetical order\n",
        "    sorted_list = sorted(word_list)\n",
        "    # Return the first element of the sorted list\n",
        "    return sorted_list[0]\n",
        "\n",
        "students = ['sachin', 'dhoni', 'virat', 'rohit', 'akshay', 'bumrah']\n",
        "print(first_word(students))\n"
      ],
      "metadata": {
        "colab": {
          "base_uri": "https://localhost:8080/"
        },
        "id": "2RfOlNJzx3ov",
        "outputId": "f6aa8798-bca0-4627-a526-33fa748c0628"
      },
      "execution_count": null,
      "outputs": [
        {
          "output_type": "stream",
          "name": "stdout",
          "text": [
            "akshay\n"
          ]
        }
      ]
    },
    {
      "cell_type": "markdown",
      "source": [],
      "metadata": {
        "id": "pG10SZX3UnZs"
      }
    },
    {
      "cell_type": "markdown",
      "source": [],
      "metadata": {
        "id": "MJ_wDg1NZmgH"
      }
    },
    {
      "cell_type": "code",
      "source": [
        "class Employee:\n",
        "    # Class variable to keep track of the number of employees\n",
        "    employee_count = 0\n",
        "\n",
        "    def __init__(self, name, family, salary, department):\n",
        "        self.name = name\n",
        "        self.family = family\n",
        "        self.salary = salary\n",
        "        self.department = department\n",
        "        # Increment the employee count when a new instance is created\n",
        "        Employee.employee_count += 1\n",
        "\n",
        "    @staticmethod\n",
        "    def average_salary(employees):\n",
        "        if not employees:\n",
        "            return 0\n",
        "        total_salary = sum(emp.salary for emp in employees)\n",
        "        return total_salary / len(employees)\n",
        "\n",
        "    def __str__(self):\n",
        "        return f\"Employee(Name: {self.name}, Family: {self.family}, Salary: {self.salary}, Department: {self.department})\"\n",
        "\n",
        "class FulltimeEmployee(Employee):\n",
        "    def __init__(self, name, family, salary, department, benefits):\n",
        "        super().__init__(name, family, salary, department)\n",
        "        self.benefits = benefits\n",
        "\n",
        "    def __str__(self):\n",
        "        return f\"FulltimeEmployee(Name: {self.name}, Family: {self.family}, Salary: {self.salary}, Department: {self.department}, Benefits: {self.benefits})\"\n",
        "\n",
        "# Creating instances of Employee and FulltimeEmployee\n",
        "emp1 = Employee(\"sachin\", \"tendulkar\", 100000, \"chief executor\")\n",
        "emp2 = Employee(\"dhoni\", \"singh\", 70000, \"manager\")\n",
        "emp3 = FulltimeEmployee(\"rohit\", \"sharma\", 120000, \"accounts\", \"discounts on entertainment \")\n",
        "\n",
        "# List of employees to calculate average salary\n",
        "employees = [emp1, emp2, emp3]\n",
        "\n",
        "# Print details of each employee\n",
        "print(emp1)\n",
        "print(emp2)\n",
        "print(emp3)\n",
        "\n",
        "# Calculate and print average salary\n",
        "average_salary = Employee.average_salary(employees)\n",
        "print(f\"Average Salary: {average_salary}\")\n",
        "\n",
        "# Print the total number of employees\n",
        "print(f\"Total Number of Employees: {Employee.employee_count}\")"
      ],
      "metadata": {
        "colab": {
          "base_uri": "https://localhost:8080/"
        },
        "id": "Plgr5ykwcAlK",
        "outputId": "3e2bccbb-729b-48ea-c3ea-5e1af1d78b8f"
      },
      "execution_count": 26,
      "outputs": [
        {
          "output_type": "stream",
          "name": "stdout",
          "text": [
            "Employee(Name: sachin, Family: tendulkar, Salary: 100000, Department: chief executor)\n",
            "Employee(Name: dhoni, Family: singh, Salary: 70000, Department: manager)\n",
            "FulltimeEmployee(Name: rohit, Family: sharma, Salary: 120000, Department: accounts, Benefits: discounts on entertainment )\n",
            "Average Salary: 96666.66666666667\n",
            "Total Number of Employees: 3\n"
          ]
        }
      ]
    },
    {
      "cell_type": "markdown",
      "source": [
        "1. The difference between counter.count and self._count is :\n",
        "\n",
        "Counter.count:\n",
        "1. Shared across all instances.\n",
        "2. Tracks the total number of increment calls across all instances.\n",
        "3. keeps track of a value common to all instances.\n",
        "4. Can be accessed by using counter\n",
        "\n",
        "• self._count:\n",
        "1. Unique to each instance.\n",
        "2. Tracks the number of increment calls for that specific instance.\n",
        "3. Can be accessed by using self with instance methods.\n",
        "\n",
        " 2. The outputs are:\n",
        "  a.get_counts() will print: \"Instance count: 2, Class count: 3\" b.get_counts() will print: \"Instance count: 1,class count :3\"\n",
        "\n",
        " 3. How does the increment method affect both the class and instance variables?\n",
        "     \n",
        "    The increment method affects both the class variable  count  and the instance variable _count:\n",
        "\n",
        "Increment method on Class Variable (Counter.count)\n",
        "When the  increment method is called, the line Counter.count += 1 increases the value of this class variable by 1.\n",
        "This means that every time  increment is called on any instance, Counter.count will be incremented, and this change is reflected across all instance.\n",
        "\n",
        "Increment method on  Instance Variable (self._count)\n",
        " The instance variable `_count` is unique to each instance of the Counter class. When the increment method is called, the line self._count += 1 increases the value of this instance variable by 1 for that specific instance.\n",
        " This means that the increment only affects the _count of the instance on which the method is called.\n",
        "\n",
        "\n",
        "\n",
        "\n",
        "\n",
        "\n",
        "\n"
      ],
      "metadata": {
        "id": "LiEh3Zkf3la9"
      }
    },
    {
      "cell_type": "markdown",
      "source": [],
      "metadata": {
        "id": "51xVxWk2aKZr"
      }
    }
  ]
}