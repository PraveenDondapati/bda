{
  "nbformat": 4,
  "nbformat_minor": 0,
  "metadata": {
    "colab": {
      "provenance": []
    },
    "kernelspec": {
      "name": "python3",
      "display_name": "Python 3"
    },
    "language_info": {
      "name": "python"
    }
  },
  "cells": [
    {
      "cell_type": "code",
      "source": [
        "# accept a string and delete atleast 2 characters,reverse the resultant string\n",
        "input_string = input(\"Enter a string: \")\n",
        "char_list = list(input_string)\n",
        "if len(char_list) < 2:\n",
        "    print(\"The string is too short to delete two characters.\")\n",
        "else:\n",
        "    del char_list[5]\n",
        "    del char_list[4]\n",
        "    resultant_string = ''.join(char_list)\n",
        "    reversed_string = resultant_string[::-1]\n",
        "    print(\"Reversed resultant string:\", reversed_string)\n"
      ],
      "metadata": {
        "colab": {
          "base_uri": "https://localhost:8080/"
        },
        "id": "EyHMSptn_S2j",
        "outputId": "b761b4c7-3a0c-4b92-a24c-73cf2d612228"
      },
      "execution_count": null,
      "outputs": [
        {
          "output_type": "stream",
          "name": "stdout",
          "text": [
            "Enter a string: sachin\n",
            "Reversed resultant string: hcas\n"
          ]
        }
      ]
    },
    {
      "cell_type": "code",
      "source": [
        "# Take two numbers as input from the user for arithmetic operations\n",
        "num1 = float(input(\"Enter the first number: \"))\n",
        "num2 = float(input(\"Enter the second number: \"))\n",
        "addition = num1 + num2\n",
        "subtraction = num1 - num2\n",
        "multiplication = num1 * num2\n",
        "try:\n",
        "    division = num1 / num2\n",
        "except ZeroDivisionError:\n",
        "    division = \"undefined (cannot divide by zero)\"\n",
        "print(f\"Addition: {num1} + {num2} = {addition}\")\n",
        "print(f\"Subtraction: {num1} - {num2} = {subtraction}\")\n",
        "print(f\"Multiplication: {num1} * {num2} = {multiplication}\")\n",
        "print(f\"Division: {num1} / {num2} = {division}\")\n"
      ],
      "metadata": {
        "colab": {
          "base_uri": "https://localhost:8080/"
        },
        "id": "kuUrjpZG_la7",
        "outputId": "ad1d1e61-5033-43dc-d397-f109b1288b3c"
      },
      "execution_count": null,
      "outputs": [
        {
          "output_type": "stream",
          "name": "stdout",
          "text": [
            "Enter the first number: 20\n",
            "Enter the second number: 10\n",
            "Addition: 20.0 + 10.0 = 30.0\n",
            "Subtraction: 20.0 - 10.0 = 10.0\n",
            "Multiplication: 20.0 * 10.0 = 200.0\n",
            "Division: 20.0 / 10.0 = 2.0\n"
          ]
        }
      ]
    },
    {
      "cell_type": "code",
      "source": [
        "# accept a sentence python and replace with pythons\n",
        "sentence = input(\"Enter sentence: \")\n",
        "modified_sentence = sentence.replace('python', 'pythons')\n",
        "print(\"The modified sentence is:\", modified_sentence)\n"
      ],
      "metadata": {
        "colab": {
          "base_uri": "https://localhost:8080/"
        },
        "id": "RU3M1GE3BWyB",
        "outputId": "8fc5850c-6944-4318-c770-d23c5eb14353"
      },
      "execution_count": null,
      "outputs": [
        {
          "output_type": "stream",
          "name": "stdout",
          "text": [
            "Enter sentence: python\n",
            "The modified sentence is: pythons\n"
          ]
        }
      ]
    },
    {
      "cell_type": "code",
      "source": [
        "# accept the score and give the grade based on score\n",
        "score = float(input(\"Enter the class score (0-100): \"))\n",
        "if 90 <= score <= 100:\n",
        "    grade = 'A'\n",
        "elif 80 <= score < 90:\n",
        "    grade = 'B'\n",
        "elif 70 <= score < 80:\n",
        "    grade = 'C'\n",
        "elif 60 <= score < 70:\n",
        "    grade = 'D'\n",
        "elif 0 <= score < 60:\n",
        "    grade = 'F'\n",
        "else:\n",
        "    grade = 'Invalid score'\n",
        "print(f\"The grade of the class is: {grade}\")\n"
      ],
      "metadata": {
        "colab": {
          "base_uri": "https://localhost:8080/"
        },
        "id": "AKXvjpHFDCrB",
        "outputId": "c9dcb0f4-aac7-4e64-b4fa-3dedc152d798"
      },
      "execution_count": null,
      "outputs": [
        {
          "output_type": "stream",
          "name": "stdout",
          "text": [
            "Enter the class score (0-100): 76\n",
            "The grade of the class is: C\n"
          ]
        }
      ]
    },
    {
      "cell_type": "code",
      "source": [
        "\n",
        "x = [10, 'sachin', 264.98]\n",
        "types_list = []\n",
        "for item in x:\n",
        "    types_list.append(type(item))\n",
        "print(x)\n",
        "print(types_list)\n"
      ],
      "metadata": {
        "colab": {
          "base_uri": "https://localhost:8080/"
        },
        "id": "d2gB_TEMECWP",
        "outputId": "adb2a627-1c96-46b8-893d-af71316dc21f"
      },
      "execution_count": null,
      "outputs": [
        {
          "output_type": "stream",
          "name": "stdout",
          "text": [
            "[10, 'sachin', 264.98]\n",
            "[<class 'int'>, <class 'str'>, <class 'float'>]\n"
          ]
        }
      ]
    },
    {
      "cell_type": "code",
      "source": [
        "# Define the sets and list\n",
        "IT_companies = {'Facebook', 'Google', 'Microsoft', 'Apple', 'IBM', 'Oracle', 'Amazon'}\n",
        "A = {19, 22, 24, 20, 25, 26}\n",
        "B = {19, 22, 20, 25, 26, 24, 28, 27}\n",
        "age = [22, 19, 24, 25, 26, 24, 25, 24]\n",
        "\n",
        "# 1. Find the length of the set IT_companies\n",
        "length_IT_companies = len(IT_companies)\n",
        "print(\"Length of IT_companies:\", length_IT_companies)\n",
        "\n",
        "# 2. Add 'Twitter' to IT_companies\n",
        "IT_companies.add('Twitter')\n",
        "print(\"IT_companies after adding 'Twitter':\", IT_companies)\n",
        "\n",
        "# 3. Insert multiple IT companies at once to the set IT_companies\n",
        "additional_companies = {'Salesforce', 'Adobe', 'Nvidia'}\n",
        "IT_companies.update(additional_companies)\n",
        "print(\"IT_companies after adding multiple companies:\", IT_companies)\n",
        "\n",
        "# 4. Remove one of the companies from the set IT_companies\n",
        "IT_companies.remove('Twitter')  # Removing 'Twitter' that was added earlier\n",
        "print(\"IT_companies after removing 'Twitter':\", IT_companies)\n",
        "\n",
        "# 5. What is the difference between remove and discard\n",
        "print(\"Difference between remove and discard:\")\n",
        "print(\"- `remove(element)` raises a `KeyError` if the element is not found in the set.\")\n",
        "print(\"- `discard(element)` does not raise an error if the element is not found; it simply does nothing.\")\n",
        "\n",
        "# 6. Join A and B\n",
        "union_AB = A.union(B)\n",
        "print(\"Union of A and B:\", union_AB)\n",
        "\n",
        "# 7. Find A intersection B\n",
        "intersection_AB = A.intersection(B)\n",
        "print(\"Intersection of A and B:\", intersection_AB)\n",
        "\n",
        "# 8. Is A a subset of B?\n",
        "is_subset = A.issubset(B)\n",
        "print(\"Is A a subset of B?\", is_subset)\n",
        "\n",
        "# 9. Are A and B disjoint sets?\n",
        "are_disjoint = A.isdisjoint(B)\n",
        "print(\"Are A and B disjoint sets?\", are_disjoint)\n",
        "\n",
        "# 10. Join A with B and B with A\n",
        "A.update(B)  # Join A with B\n",
        "print(\"A after joining with B:\", A)\n",
        "\n",
        "# Reset A and B to their original values\n",
        "A = {19, 22, 24, 20, 25, 26}\n",
        "B = {19, 22, 20, 25, 26, 24, 28, 27}\n",
        "\n",
        "B.update(A)  # Join B with A\n",
        "print(\"B after joining with A:\", B)\n",
        "\n",
        "# 11. What is the symmetric difference between A and B?\n",
        "symmetric_difference_AB = A.symmetric_difference(B)\n",
        "print(\"Symmetric difference between A and B:\", symmetric_difference_AB)\n",
        "\n",
        "# 12. Delete the sets completely\n",
        "del IT_companies\n",
        "del A\n",
        "del B\n",
        "age_set = set(age)\n",
        "print(\"Length of the list:\", len(age))\n",
        "print(\"Length of the set:\", len(age_set))\n"
      ],
      "metadata": {
        "colab": {
          "base_uri": "https://localhost:8080/"
        },
        "id": "fkWRV9PvExE9",
        "outputId": "ef578864-db3d-4389-e1f3-e09c70479cdf"
      },
      "execution_count": null,
      "outputs": [
        {
          "output_type": "stream",
          "name": "stdout",
          "text": [
            "Length of IT_companies: 7\n",
            "IT_companies after adding 'Twitter': {'Oracle', 'Facebook', 'Google', 'Apple', 'Microsoft', 'IBM', 'Amazon', 'Twitter'}\n",
            "IT_companies after adding multiple companies: {'Oracle', 'Salesforce', 'Adobe', 'IBM', 'Facebook', 'Amazon', 'Google', 'Apple', 'Nvidia', 'Microsoft', 'Twitter'}\n",
            "IT_companies after removing 'Twitter': {'Oracle', 'Salesforce', 'Adobe', 'IBM', 'Facebook', 'Amazon', 'Google', 'Apple', 'Nvidia', 'Microsoft'}\n",
            "Difference between remove and discard:\n",
            "- `remove(element)` raises a `KeyError` if the element is not found in the set.\n",
            "- `discard(element)` does not raise an error if the element is not found; it simply does nothing.\n",
            "Union of A and B: {19, 20, 22, 24, 25, 26, 27, 28}\n",
            "Intersection of A and B: {19, 20, 22, 24, 25, 26}\n",
            "Is A a subset of B? True\n",
            "Are A and B disjoint sets? False\n",
            "A after joining with B: {19, 20, 22, 24, 25, 26, 27, 28}\n",
            "B after joining with A: {19, 20, 22, 24, 25, 26, 27, 28}\n",
            "Symmetric difference between A and B: {27, 28}\n",
            "Length of the list: 8\n",
            "Length of the set: 5\n"
          ]
        }
      ]
    }
  ]
}